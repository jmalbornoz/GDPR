{
 "cells": [
  {
   "cell_type": "markdown",
   "metadata": {
    "id": "W_RuDIS7w9SF"
   },
   "source": [
    "<a href=\"https://github.com/jmalbornoz/GDPR/blob/master/2A%20simple%20chatbot%20with%20Langchain.ipynb\" target=\"_parent\"><img src=\"https://colab.research.google.com/assets/colab-badge.svg\" alt=\"Open In Colab\"/></a>"
   ]
  },
  {
   "cell_type": "markdown",
   "id": "a066e901",
   "metadata": {},
   "source": [
    "# A simple chatbot with Langchain\n",
    "## Jose M Albornoz\n",
    "### February 2024"
   ]
  },
  {
   "cell_type": "markdown",
   "id": "b22f5ebe",
   "metadata": {},
   "source": [
    "# 0.- Imports"
   ]
  },
  {
   "cell_type": "code",
   "execution_count": null,
   "id": "751041ba",
   "metadata": {},
   "outputs": [],
   "source": [
    "!pip install -q langchain"
   ]
  },
  {
   "cell_type": "code",
   "execution_count": null,
   "id": "f06b6318",
   "metadata": {},
   "outputs": [],
   "source": [
    "pip install -q sentence-transformers"
   ]
  },
  {
   "cell_type": "code",
   "execution_count": null,
   "id": "e8006be7",
   "metadata": {},
   "outputs": [],
   "source": [
    "pip install -q faiss-cpu"
   ]
  },
  {
   "cell_type": "markdown",
   "id": "f4206ac2",
   "metadata": {},
   "source": [
    "# 1.- Load text and split it into chunks"
   ]
  },
  {
   "cell_type": "code",
   "execution_count": null,
   "id": "39060a81",
   "metadata": {},
   "outputs": [],
   "source": [
    "from langchain.text_splitter import RecursiveCharacterTextSplitter"
   ]
  },
  {
   "cell_type": "code",
   "execution_count": null,
   "id": "244dd19a",
   "metadata": {},
   "outputs": [],
   "source": [
    "with open(\"./text_file.txt\") as f:\n",
    "    text_file = f.read()"
   ]
  },
  {
   "cell_type": "code",
   "execution_count": null,
   "id": "323f6427",
   "metadata": {},
   "outputs": [],
   "source": [
    "text_splitter = RecursiveCharacterTextSplitter(chunk_size=750, chunk_overlap=20)"
   ]
  },
  {
   "cell_type": "code",
   "execution_count": null,
   "id": "998c784f",
   "metadata": {},
   "outputs": [],
   "source": [
    "chunks = text_splitter.split_text(text_file)"
   ]
  },
  {
   "cell_type": "markdown",
   "id": "fcc92f40",
   "metadata": {},
   "source": [
    "Here's what a chunk looks like:"
   ]
  },
  {
   "cell_type": "code",
   "execution_count": null,
   "id": "492c11ac",
   "metadata": {},
   "outputs": [],
   "source": [
    "chunks[15]"
   ]
  },
  {
   "cell_type": "code",
   "execution_count": null,
   "id": "c2cafb85",
   "metadata": {},
   "outputs": [],
   "source": [
    "print(f\" There are {len(chunks)} chunks\")"
   ]
  },
  {
   "cell_type": "markdown",
   "id": "135203e3",
   "metadata": {},
   "source": [
    "# 2.- Import HugginFace embeddings"
   ]
  },
  {
   "cell_type": "code",
   "execution_count": null,
   "id": "63f4cbaa",
   "metadata": {},
   "outputs": [],
   "source": [
    "from langchain.embeddings.huggingface import HuggingFaceEmbeddings"
   ]
  },
  {
   "cell_type": "code",
   "execution_count": null,
   "id": "0881661e",
   "metadata": {},
   "outputs": [],
   "source": [
    "embeddings = HuggingFaceEmbeddings()"
   ]
  },
  {
   "cell_type": "markdown",
   "id": "34497642",
   "metadata": {},
   "source": [
    "# 3.- Embed the chunks and store the embeddings in a vector database"
   ]
  },
  {
   "cell_type": "code",
   "execution_count": null,
   "id": "60f54185",
   "metadata": {},
   "outputs": [],
   "source": [
    "from langchain.vectorstores import FAISS"
   ]
  },
  {
   "cell_type": "code",
   "execution_count": null,
   "id": "eb889a93",
   "metadata": {},
   "outputs": [],
   "source": [
    "vectorStore = FAISS.from_texts(chunks, embeddings)"
   ]
  },
  {
   "cell_type": "markdown",
   "id": "672875f2",
   "metadata": {},
   "source": [
    "# 4.- Load the Falcon-7B-Instruct LLM"
   ]
  },
  {
   "cell_type": "code",
   "execution_count": null,
   "id": "d44699b7",
   "metadata": {},
   "outputs": [],
   "source": [
    "from langchain import HuggingFaceHub\n",
    "import os\n",
    "\n",
    "os.environ[\"HUGGINGFACEHUB_API_TOKEN\"] = \"YOU_HUGGINGFACE_API_KEY\""
   ]
  },
  {
   "cell_type": "code",
   "execution_count": null,
   "id": "b83ef880",
   "metadata": {},
   "outputs": [],
   "source": [
    "llm=HuggingFaceHub(repo_id=\"tiiuae/falcon-7b-instruct\", model_kwargs={\"temperature\":0.1 ,\"max_length\":512})"
   ]
  },
  {
   "cell_type": "markdown",
   "id": "827e443f",
   "metadata": {},
   "source": [
    "# 5.- Create a question answering chain"
   ]
  },
  {
   "cell_type": "code",
   "execution_count": null,
   "id": "eec9c958",
   "metadata": {},
   "outputs": [],
   "source": [
    "from langchain.chains import RetrievalQA\n",
    "from langchain.schema import retriever"
   ]
  },
  {
   "cell_type": "code",
   "execution_count": null,
   "id": "eb242201",
   "metadata": {},
   "outputs": [],
   "source": [
    "chain = RetrievalQA.from_chain_type(llm=llm, chain_type=\"stuff\", retriever=vectorStore.as_retriever())"
   ]
  },
  {
   "cell_type": "code",
   "execution_count": null,
   "id": "f6813f2d",
   "metadata": {},
   "outputs": [],
   "source": [
    "query=\"Name examples of Italian symphonic bands whose names begin with A\""
   ]
  },
  {
   "cell_type": "code",
   "execution_count": null,
   "id": "d427a386",
   "metadata": {},
   "outputs": [],
   "source": [
    "chain.invoke(query)"
   ]
  }
 ],
 "metadata": {
  "kernelspec": {
   "display_name": "Python 3 (ipykernel)",
   "language": "python",
   "name": "python3"
  },
  "language_info": {
   "codemirror_mode": {
    "name": "ipython",
    "version": 3
   },
   "file_extension": ".py",
   "mimetype": "text/x-python",
   "name": "python",
   "nbconvert_exporter": "python",
   "pygments_lexer": "ipython3",
   "version": "3.7.16"
  }
 },
 "nbformat": 4,
 "nbformat_minor": 5
}
